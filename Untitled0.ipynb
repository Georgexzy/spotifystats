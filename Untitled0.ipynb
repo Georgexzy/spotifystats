{
  "nbformat": 4,
  "nbformat_minor": 0,
  "metadata": {
    "colab": {
      "provenance": [],
      "authorship_tag": "ABX9TyMrxZbxJ+thnHKevuuUO4za",
      "include_colab_link": true
    },
    "kernelspec": {
      "name": "python3",
      "display_name": "Python 3"
    },
    "language_info": {
      "name": "python"
    }
  },
  "cells": [
    {
      "cell_type": "markdown",
      "metadata": {
        "id": "view-in-github",
        "colab_type": "text"
      },
      "source": [
        "<a href=\"https://colab.research.google.com/github/Georgexzy/spotifystats/blob/main/Untitled0.ipynb\" target=\"_parent\"><img src=\"https://colab.research.google.com/assets/colab-badge.svg\" alt=\"Open In Colab\"/></a>"
      ]
    },
    {
      "cell_type": "code",
      "source": [
        "import spotipy\n",
        "from spotipy.oauth2 import SpotifyOAuth\n",
        "\n",
        "client_id = \"860a2b347f5b4d91bbc13713f3c9bf19\"\n",
        "client_secret = \"f9b928d5d56e4be1b8117f5b7a776e29\"\n",
        "redirect_uri = \"http://192.168.56.1:8888/callback\"\n",
        "\n",
        "oauth = SpotifyOAuth(client_id=client_id, client_secret=client_secret, redirect_uri=redirect_uri)\n",
        "\n",
        "# Generate the authorization URL\n",
        "auth_url = oauth.get_authorize_url()\n",
        "\n",
        "# Print the authorization URL for the user to visit\n",
        "print(\"Please visit the following URL to grant access to your Spotify account:\")\n",
        "print(auth_url)\n",
        "\n",
        "# Prompt the user for the authorization code\n",
        "auth_code = input(\"Enter the authorization code: \")\n",
        "\n",
        "# Exchange the authorization code for an access token\n",
        "token_info = oauth.get_access_token(auth_code)\n",
        "\n",
        "# Create a Spotify client using the access token\n",
        "sp = spotipy.Spotify(auth=token_info[\"access_token\"])\n",
        "\n",
        "stats = sp.current_user_top_tracks()\n",
        "\n",
        "# Save the stats to a file\n",
        "with open(\"spotify_stats.txt\", \"w\") as file:\n",
        "    for track in stats[\"items\"]:\n",
        "        file.write(\"Track: {}\\nArtist: {}\\n\\n\".format(track[\"name\"], track[\"artists\"][0][\"name\"]))\n",
        "\n",
        "print(\"Stats saved to spotify_stats.txt\")\n",
        "\n"
      ],
      "metadata": {
        "colab": {
          "base_uri": "https://localhost:8080/"
        },
        "id": "oUab3x6EyGpE",
        "outputId": "7814d60e-fa9a-42cd-f96a-1b2277beb3e8"
      },
      "execution_count": null,
      "outputs": [
        {
          "output_type": "stream",
          "name": "stdout",
          "text": [
            "Please visit the following URL to grant access to your Spotify account:\n",
            "https://accounts.spotify.com/authorize?client_id=860a2b347f5b4d91bbc13713f3c9bf19&response_type=code&redirect_uri=http%3A%2F%2F192.168.56.1%3A8888%2Fcallback\n"
          ]
        }
      ]
    },
    {
      "cell_type": "code",
      "source": [
        "!pip install spotipy\n"
      ],
      "metadata": {
        "colab": {
          "base_uri": "https://localhost:8080/"
        },
        "id": "MZbOmQOZ0Bws",
        "outputId": "b8c2b05d-4442-481e-d80f-eb99067a8739"
      },
      "execution_count": 19,
      "outputs": [
        {
          "output_type": "stream",
          "name": "stdout",
          "text": [
            "Looking in indexes: https://pypi.org/simple, https://us-python.pkg.dev/colab-wheels/public/simple/\n",
            "Requirement already satisfied: spotipy in /usr/local/lib/python3.8/dist-packages (2.22.0)\n",
            "Requirement already satisfied: requests>=2.25.0 in /usr/local/lib/python3.8/dist-packages (from spotipy) (2.28.1)\n",
            "Requirement already satisfied: redis>=3.5.3 in /usr/local/lib/python3.8/dist-packages (from spotipy) (4.4.0)\n",
            "Requirement already satisfied: urllib3>=1.26.0 in /usr/local/lib/python3.8/dist-packages (from spotipy) (1.26.13)\n",
            "Requirement already satisfied: six>=1.15.0 in /usr/local/lib/python3.8/dist-packages (from spotipy) (1.15.0)\n",
            "Requirement already satisfied: async-timeout>=4.0.2 in /usr/local/lib/python3.8/dist-packages (from redis>=3.5.3->spotipy) (4.0.2)\n",
            "Requirement already satisfied: idna<4,>=2.5 in /usr/local/lib/python3.8/dist-packages (from requests>=2.25.0->spotipy) (2.10)\n",
            "Requirement already satisfied: charset-normalizer<3,>=2 in /usr/local/lib/python3.8/dist-packages (from requests>=2.25.0->spotipy) (2.1.1)\n",
            "Requirement already satisfied: certifi>=2017.4.17 in /usr/local/lib/python3.8/dist-packages (from requests>=2.25.0->spotipy) (2022.9.24)\n"
          ]
        }
      ]
    }
  ]
}